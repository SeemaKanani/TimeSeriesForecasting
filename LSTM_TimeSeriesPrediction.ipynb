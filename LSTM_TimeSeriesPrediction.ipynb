{
 "cells": [
  {
   "cell_type": "code",
   "execution_count": 49,
   "metadata": {},
   "outputs": [],
   "source": [
    "import numpy as np\n",
    "import pandas as pd\n",
    "import matplotlib.pyplot as plt\n",
    "%matplotlib inline\n",
    "from statsmodels.tools.eval_measures import rmse\n",
    "from sklearn.preprocessing import MinMaxScaler\n",
    "from keras.preprocessing.sequence import TimeseriesGenerator\n",
    "from keras.models import Sequential\n",
    "from keras.layers import Dense\n",
    "from keras.layers import LSTM\n",
    "from keras.layers import Dropout\n",
    "import warnings\n",
    "warnings.filterwarnings(\"ignore\")\n",
    "\n",
    "df1 = pd.read_csv('GOOG.csv')  #Google share price"
   ]
  },
  {
   "cell_type": "code",
   "execution_count": 50,
   "metadata": {},
   "outputs": [
    {
     "data": {
      "text/html": [
       "<div>\n",
       "<style scoped>\n",
       "    .dataframe tbody tr th:only-of-type {\n",
       "        vertical-align: middle;\n",
       "    }\n",
       "\n",
       "    .dataframe tbody tr th {\n",
       "        vertical-align: top;\n",
       "    }\n",
       "\n",
       "    .dataframe thead th {\n",
       "        text-align: right;\n",
       "    }\n",
       "</style>\n",
       "<table border=\"1\" class=\"dataframe\">\n",
       "  <thead>\n",
       "    <tr style=\"text-align: right;\">\n",
       "      <th></th>\n",
       "      <th>Date</th>\n",
       "      <th>Open</th>\n",
       "      <th>High</th>\n",
       "      <th>Low</th>\n",
       "      <th>Close</th>\n",
       "      <th>Adj Close</th>\n",
       "      <th>Volume</th>\n",
       "    </tr>\n",
       "  </thead>\n",
       "  <tbody>\n",
       "    <tr>\n",
       "      <th>0</th>\n",
       "      <td>2005-09-08</td>\n",
       "      <td>146.864517</td>\n",
       "      <td>149.081207</td>\n",
       "      <td>146.132263</td>\n",
       "      <td>147.143463</td>\n",
       "      <td>147.143463</td>\n",
       "      <td>13276100</td>\n",
       "    </tr>\n",
       "    <tr>\n",
       "      <th>1</th>\n",
       "      <td>2005-09-09</td>\n",
       "      <td>148.084946</td>\n",
       "      <td>148.991547</td>\n",
       "      <td>147.726288</td>\n",
       "      <td>148.986557</td>\n",
       "      <td>148.986557</td>\n",
       "      <td>8813800</td>\n",
       "    </tr>\n",
       "    <tr>\n",
       "      <th>2</th>\n",
       "      <td>2005-09-12</td>\n",
       "      <td>150.311600</td>\n",
       "      <td>155.128540</td>\n",
       "      <td>149.937988</td>\n",
       "      <td>154.291672</td>\n",
       "      <td>154.291672</td>\n",
       "      <td>20850700</td>\n",
       "    </tr>\n",
       "    <tr>\n",
       "      <th>3</th>\n",
       "      <td>2005-09-13</td>\n",
       "      <td>153.923065</td>\n",
       "      <td>157.175873</td>\n",
       "      <td>152.513336</td>\n",
       "      <td>155.258057</td>\n",
       "      <td>155.258057</td>\n",
       "      <td>20676900</td>\n",
       "    </tr>\n",
       "    <tr>\n",
       "      <th>4</th>\n",
       "      <td>2005-09-14</td>\n",
       "      <td>153.788559</td>\n",
       "      <td>156.055069</td>\n",
       "      <td>149.589310</td>\n",
       "      <td>150.934265</td>\n",
       "      <td>150.934265</td>\n",
       "      <td>22636000</td>\n",
       "    </tr>\n",
       "  </tbody>\n",
       "</table>\n",
       "</div>"
      ],
      "text/plain": [
       "         Date        Open        High         Low       Close   Adj Close  \\\n",
       "0  2005-09-08  146.864517  149.081207  146.132263  147.143463  147.143463   \n",
       "1  2005-09-09  148.084946  148.991547  147.726288  148.986557  148.986557   \n",
       "2  2005-09-12  150.311600  155.128540  149.937988  154.291672  154.291672   \n",
       "3  2005-09-13  153.923065  157.175873  152.513336  155.258057  155.258057   \n",
       "4  2005-09-14  153.788559  156.055069  149.589310  150.934265  150.934265   \n",
       "\n",
       "     Volume  \n",
       "0  13276100  \n",
       "1   8813800  \n",
       "2  20850700  \n",
       "3  20676900  \n",
       "4  22636000  "
      ]
     },
     "execution_count": 50,
     "metadata": {},
     "output_type": "execute_result"
    }
   ],
   "source": [
    "df1.head()"
   ]
  },
  {
   "cell_type": "code",
   "execution_count": 51,
   "metadata": {},
   "outputs": [],
   "source": [
    "df1.Date = pd.to_datetime(df1.Date)\n",
    "df1 = df1.set_index(\"Date\")   #set date column as index\n"
   ]
  },
  {
   "cell_type": "code",
   "execution_count": 54,
   "metadata": {},
   "outputs": [],
   "source": [
    "\n",
    "df = df1.loc[:, [\"Close\"]]"
   ]
  },
  {
   "cell_type": "code",
   "execution_count": 55,
   "metadata": {},
   "outputs": [
    {
     "data": {
      "text/html": [
       "<div>\n",
       "<style scoped>\n",
       "    .dataframe tbody tr th:only-of-type {\n",
       "        vertical-align: middle;\n",
       "    }\n",
       "\n",
       "    .dataframe tbody tr th {\n",
       "        vertical-align: top;\n",
       "    }\n",
       "\n",
       "    .dataframe thead th {\n",
       "        text-align: right;\n",
       "    }\n",
       "</style>\n",
       "<table border=\"1\" class=\"dataframe\">\n",
       "  <thead>\n",
       "    <tr style=\"text-align: right;\">\n",
       "      <th></th>\n",
       "      <th>Close</th>\n",
       "    </tr>\n",
       "  </thead>\n",
       "  <tbody>\n",
       "    <tr>\n",
       "      <th>0</th>\n",
       "      <td>147.143463</td>\n",
       "    </tr>\n",
       "    <tr>\n",
       "      <th>1</th>\n",
       "      <td>148.986557</td>\n",
       "    </tr>\n",
       "    <tr>\n",
       "      <th>2</th>\n",
       "      <td>154.291672</td>\n",
       "    </tr>\n",
       "    <tr>\n",
       "      <th>3</th>\n",
       "      <td>155.258057</td>\n",
       "    </tr>\n",
       "    <tr>\n",
       "      <th>4</th>\n",
       "      <td>150.934265</td>\n",
       "    </tr>\n",
       "    <tr>\n",
       "      <th>...</th>\n",
       "      <td>...</td>\n",
       "    </tr>\n",
       "    <tr>\n",
       "      <th>3770</th>\n",
       "      <td>1634.180054</td>\n",
       "    </tr>\n",
       "    <tr>\n",
       "      <th>3771</th>\n",
       "      <td>1660.709961</td>\n",
       "    </tr>\n",
       "    <tr>\n",
       "      <th>3772</th>\n",
       "      <td>1728.280029</td>\n",
       "    </tr>\n",
       "    <tr>\n",
       "      <th>3773</th>\n",
       "      <td>1641.839966</td>\n",
       "    </tr>\n",
       "    <tr>\n",
       "      <th>3774</th>\n",
       "      <td>1591.040039</td>\n",
       "    </tr>\n",
       "  </tbody>\n",
       "</table>\n",
       "<p>3775 rows × 1 columns</p>\n",
       "</div>"
      ],
      "text/plain": [
       "            Close\n",
       "0      147.143463\n",
       "1      148.986557\n",
       "2      154.291672\n",
       "3      155.258057\n",
       "4      150.934265\n",
       "...           ...\n",
       "3770  1634.180054\n",
       "3771  1660.709961\n",
       "3772  1728.280029\n",
       "3773  1641.839966\n",
       "3774  1591.040039\n",
       "\n",
       "[3775 rows x 1 columns]"
      ]
     },
     "execution_count": 55,
     "metadata": {},
     "output_type": "execute_result"
    }
   ],
   "source": [
    "df"
   ]
  },
  {
   "cell_type": "code",
   "execution_count": 56,
   "metadata": {},
   "outputs": [],
   "source": [
    "train, test = df[:-12], df[-12:]"
   ]
  },
  {
   "cell_type": "code",
   "execution_count": 57,
   "metadata": {},
   "outputs": [
    {
     "data": {
      "text/plain": [
       "(3775, 1)"
      ]
     },
     "execution_count": 57,
     "metadata": {},
     "output_type": "execute_result"
    }
   ],
   "source": [
    "df.shape"
   ]
  },
  {
   "cell_type": "code",
   "execution_count": 58,
   "metadata": {},
   "outputs": [],
   "source": [
    "scaler = MinMaxScaler()\n",
    "scaler.fit(train)\n",
    "train = scaler.transform(train)\n",
    "test = scaler.transform(test)"
   ]
  },
  {
   "cell_type": "code",
   "execution_count": 59,
   "metadata": {},
   "outputs": [
    {
     "data": {
      "text/plain": [
       "(3763, 1)"
      ]
     },
     "execution_count": 59,
     "metadata": {},
     "output_type": "execute_result"
    }
   ],
   "source": [
    "train.shape"
   ]
  },
  {
   "cell_type": "code",
   "execution_count": 60,
   "metadata": {},
   "outputs": [
    {
     "name": "stdout",
     "output_type": "stream",
     "text": [
      "Epoch 1/90\n",
      "623/623 [==============================] - 11s 17ms/step - loss: 0.0031\n",
      "Epoch 2/90\n",
      "623/623 [==============================] - 12s 19ms/step - loss: 0.0015\n",
      "Epoch 3/90\n",
      "623/623 [==============================] - 12s 19ms/step - loss: 9.0732e-04\n",
      "Epoch 4/90\n",
      "623/623 [==============================] - 12s 19ms/step - loss: 9.1100e-04\n",
      "Epoch 5/90\n",
      "623/623 [==============================] - 12s 19ms/step - loss: 9.9626e-04\n",
      "Epoch 6/90\n",
      "623/623 [==============================] - 12s 19ms/step - loss: 7.5286e-04\n",
      "Epoch 7/90\n",
      "623/623 [==============================] - 11s 18ms/step - loss: 6.7748e-04\n",
      "Epoch 8/90\n",
      "623/623 [==============================] - 13s 20ms/step - loss: 8.0781e-04\n",
      "Epoch 9/90\n",
      "623/623 [==============================] - 14s 22ms/step - loss: 7.0496e-04\n",
      "Epoch 10/90\n",
      "623/623 [==============================] - 12s 20ms/step - loss: 5.8081e-04\n",
      "Epoch 11/90\n",
      "623/623 [==============================] - 12s 20ms/step - loss: 4.8722e-04\n",
      "Epoch 12/90\n",
      "623/623 [==============================] - 11s 17ms/step - loss: 7.1287e-04\n",
      "Epoch 13/90\n",
      "623/623 [==============================] - 11s 18ms/step - loss: 5.5116e-04\n",
      "Epoch 14/90\n",
      "623/623 [==============================] - 11s 17ms/step - loss: 5.8440e-04\n",
      "Epoch 15/90\n",
      "623/623 [==============================] - 10s 17ms/step - loss: 6.3185e-04\n",
      "Epoch 16/90\n",
      "623/623 [==============================] - 11s 17ms/step - loss: 4.7881e-04\n",
      "Epoch 17/90\n",
      "623/623 [==============================] - 11s 17ms/step - loss: 5.9588e-04\n",
      "Epoch 18/90\n",
      "623/623 [==============================] - 11s 17ms/step - loss: 5.7290e-04\n",
      "Epoch 19/90\n",
      "623/623 [==============================] - 11s 17ms/step - loss: 5.0676e-04\n",
      "Epoch 20/90\n",
      "623/623 [==============================] - 11s 17ms/step - loss: 5.4530e-04\n",
      "Epoch 21/90\n",
      "623/623 [==============================] - 10s 16ms/step - loss: 5.5068e-04\n",
      "Epoch 22/90\n",
      "623/623 [==============================] - 10s 17ms/step - loss: 4.9716e-04\n",
      "Epoch 23/90\n",
      "623/623 [==============================] - 11s 18ms/step - loss: 4.6244e-04\n",
      "Epoch 24/90\n",
      "623/623 [==============================] - 10s 17ms/step - loss: 5.2892e-04\n",
      "Epoch 25/90\n",
      "623/623 [==============================] - 11s 17ms/step - loss: 5.1802e-04\n",
      "Epoch 26/90\n",
      "623/623 [==============================] - 11s 17ms/step - loss: 5.3460e-04\n",
      "Epoch 27/90\n",
      "623/623 [==============================] - 11s 17ms/step - loss: 4.8143e-04\n",
      "Epoch 28/90\n",
      "623/623 [==============================] - 11s 17ms/step - loss: 4.7698e-04\n",
      "Epoch 29/90\n",
      "623/623 [==============================] - 11s 17ms/step - loss: 5.7843e-04\n",
      "Epoch 30/90\n",
      "623/623 [==============================] - 11s 17ms/step - loss: 5.2690e-04\n",
      "Epoch 31/90\n",
      "623/623 [==============================] - 11s 17ms/step - loss: 5.2893e-04\n",
      "Epoch 32/90\n",
      "623/623 [==============================] - 11s 18ms/step - loss: 4.8354e-04\n",
      "Epoch 33/90\n",
      "623/623 [==============================] - 10s 17ms/step - loss: 5.1649e-04\n",
      "Epoch 34/90\n",
      "623/623 [==============================] - 11s 17ms/step - loss: 4.7167e-04\n",
      "Epoch 35/90\n",
      "623/623 [==============================] - 11s 18ms/step - loss: 4.7996e-04\n",
      "Epoch 36/90\n",
      "623/623 [==============================] - 11s 18ms/step - loss: 4.6842e-04\n",
      "Epoch 37/90\n",
      "623/623 [==============================] - 11s 17ms/step - loss: 5.2795e-04\n",
      "Epoch 38/90\n",
      "623/623 [==============================] - 11s 18ms/step - loss: 4.9361e-04\n",
      "Epoch 39/90\n",
      "623/623 [==============================] - 11s 17ms/step - loss: 4.7128e-04\n",
      "Epoch 40/90\n",
      "623/623 [==============================] - 11s 18ms/step - loss: 5.0170e-04\n",
      "Epoch 41/90\n",
      "623/623 [==============================] - 11s 18ms/step - loss: 5.0603e-04\n",
      "Epoch 42/90\n",
      "623/623 [==============================] - 11s 18ms/step - loss: 4.9885e-04\n",
      "Epoch 43/90\n",
      "623/623 [==============================] - 11s 17ms/step - loss: 4.5130e-04\n",
      "Epoch 44/90\n",
      "623/623 [==============================] - 11s 18ms/step - loss: 4.8462e-04\n",
      "Epoch 45/90\n",
      "623/623 [==============================] - 11s 18ms/step - loss: 4.6469e-04\n",
      "Epoch 46/90\n",
      "623/623 [==============================] - 11s 18ms/step - loss: 4.3357e-04 0s - loss: 4.3735e\n",
      "Epoch 47/90\n",
      "623/623 [==============================] - 11s 17ms/step - loss: 4.7327e-04\n",
      "Epoch 48/90\n",
      "623/623 [==============================] - 11s 17ms/step - loss: 5.2031e-04\n",
      "Epoch 49/90\n",
      "623/623 [==============================] - 11s 17ms/step - loss: 4.9041e-04\n",
      "Epoch 50/90\n",
      "623/623 [==============================] - 11s 18ms/step - loss: 4.6586e-04\n",
      "Epoch 51/90\n",
      "623/623 [==============================] - 11s 17ms/step - loss: 4.8601e-04\n",
      "Epoch 52/90\n",
      "623/623 [==============================] - 11s 18ms/step - loss: 4.7072e-04\n",
      "Epoch 53/90\n",
      "623/623 [==============================] - 11s 18ms/step - loss: 5.1627e-04\n",
      "Epoch 54/90\n",
      "623/623 [==============================] - 11s 18ms/step - loss: 4.5952e-04\n",
      "Epoch 55/90\n",
      "623/623 [==============================] - 11s 17ms/step - loss: 4.7941e-04\n",
      "Epoch 56/90\n",
      "623/623 [==============================] - 11s 18ms/step - loss: 4.5594e-04\n",
      "Epoch 57/90\n",
      "623/623 [==============================] - 11s 18ms/step - loss: 4.7021e-04 0s - loss: 4.6\n",
      "Epoch 58/90\n",
      "623/623 [==============================] - 11s 18ms/step - loss: 4.5468e-04\n",
      "Epoch 59/90\n",
      "623/623 [==============================] - 11s 17ms/step - loss: 4.4561e-04\n",
      "Epoch 60/90\n",
      "623/623 [==============================] - 11s 18ms/step - loss: 4.4657e-04\n",
      "Epoch 61/90\n",
      "623/623 [==============================] - 11s 18ms/step - loss: 4.3779e-04\n",
      "Epoch 62/90\n",
      "623/623 [==============================] - 11s 17ms/step - loss: 4.6437e-04\n",
      "Epoch 63/90\n",
      "623/623 [==============================] - 11s 18ms/step - loss: 4.4763e-04\n",
      "Epoch 64/90\n",
      "623/623 [==============================] - 11s 18ms/step - loss: 4.6420e-04\n",
      "Epoch 65/90\n",
      "623/623 [==============================] - 11s 17ms/step - loss: 4.6846e-04\n",
      "Epoch 66/90\n",
      "623/623 [==============================] - 11s 18ms/step - loss: 4.6275e-04\n",
      "Epoch 67/90\n",
      "623/623 [==============================] - 11s 18ms/step - loss: 4.5899e-04\n",
      "Epoch 68/90\n",
      "623/623 [==============================] - 11s 18ms/step - loss: 4.4263e-04\n",
      "Epoch 69/90\n",
      "623/623 [==============================] - 11s 18ms/step - loss: 4.9480e-04\n",
      "Epoch 70/90\n",
      "623/623 [==============================] - 11s 18ms/step - loss: 4.1333e-04\n",
      "Epoch 71/90\n",
      "623/623 [==============================] - 11s 17ms/step - loss: 4.5378e-04\n",
      "Epoch 72/90\n",
      "623/623 [==============================] - 11s 17ms/step - loss: 4.3197e-04\n",
      "Epoch 73/90\n",
      "623/623 [==============================] - 11s 17ms/step - loss: 4.0741e-04\n",
      "Epoch 74/90\n",
      "623/623 [==============================] - 12s 19ms/step - loss: 4.2648e-04\n",
      "Epoch 75/90\n",
      "623/623 [==============================] - 11s 18ms/step - loss: 4.7457e-04\n",
      "Epoch 76/90\n",
      "623/623 [==============================] - 11s 18ms/step - loss: 4.4700e-04\n",
      "Epoch 77/90\n",
      "623/623 [==============================] - 11s 17ms/step - loss: 4.6356e-04\n",
      "Epoch 78/90\n",
      "623/623 [==============================] - 11s 18ms/step - loss: 4.5247e-04\n",
      "Epoch 79/90\n",
      "623/623 [==============================] - 11s 18ms/step - loss: 3.9630e-04\n",
      "Epoch 80/90\n",
      "623/623 [==============================] - 11s 18ms/step - loss: 4.7204e-04\n",
      "Epoch 81/90\n",
      "623/623 [==============================] - 11s 17ms/step - loss: 4.5497e-04\n",
      "Epoch 82/90\n",
      "623/623 [==============================] - 11s 17ms/step - loss: 4.1888e-04\n",
      "Epoch 83/90\n",
      "623/623 [==============================] - 11s 18ms/step - loss: 4.3815e-04\n",
      "Epoch 84/90\n",
      "623/623 [==============================] - 10s 17ms/step - loss: 4.3495e-04\n",
      "Epoch 85/90\n",
      "623/623 [==============================] - 11s 18ms/step - loss: 4.5792e-04 0s - loss: 4\n",
      "Epoch 86/90\n",
      "623/623 [==============================] - 11s 18ms/step - loss: 4.3789e-04\n",
      "Epoch 87/90\n",
      "623/623 [==============================] - 11s 18ms/step - loss: 4.5051e-04\n",
      "Epoch 88/90\n",
      "623/623 [==============================] - 11s 17ms/step - loss: 4.5780e-04\n",
      "Epoch 89/90\n",
      "623/623 [==============================] - 11s 18ms/step - loss: 4.5460e-04\n",
      "Epoch 90/90\n",
      "623/623 [==============================] - 11s 18ms/step - loss: 4.4418e-04\n"
     ]
    },
    {
     "data": {
      "text/plain": [
       "<tensorflow.python.keras.callbacks.History at 0x14d5c5c0048>"
      ]
     },
     "execution_count": 60,
     "metadata": {},
     "output_type": "execute_result"
    }
   ],
   "source": [
    "n_input = 30\n",
    "n_features = 1\n",
    "generator = TimeseriesGenerator(train, train, length=n_input, batch_size=6)\n",
    "model = Sequential()\n",
    "model.add(LSTM(200, activation='relu', input_shape=(n_input, n_features)))\n",
    "model.add(Dropout(0.15))\n",
    "model.add(Dense(1))\n",
    "model.compile(optimizer='adam', loss='mse')\n",
    "model.fit_generator(generator,epochs=90)"
   ]
  },
  {
   "cell_type": "code",
   "execution_count": 61,
   "metadata": {},
   "outputs": [],
   "source": [
    "pred_list = []\n",
    "\n",
    "batch = train[-n_input:].reshape((1, n_input, n_features))\n",
    "\n",
    "for i in range(n_input):   \n",
    "    pred_list.append(model.predict(batch)[0]) \n",
    "    batch = np.append(batch[:,1:,:],[[pred_list[i]]],axis=1)"
   ]
  },
  {
   "cell_type": "code",
   "execution_count": 62,
   "metadata": {},
   "outputs": [],
   "source": [
    "df_predict = pd.DataFrame(scaler.inverse_transform(pred_list),\n",
    "                          index=df[-n_input:].index, columns=['Prediction'])\n",
    "\n",
    "df_test = pd.concat([df,df_predict], axis=1)"
   ]
  },
  {
   "cell_type": "code",
   "execution_count": 63,
   "metadata": {},
   "outputs": [
    {
     "name": "stderr",
     "output_type": "stream",
     "text": [
      "No handles with labels found to put in legend.\n"
     ]
    },
    {
     "data": {
      "image/png": "[encoded data removed]",
      "text/plain": [
       "<Figure size 1440x360 with 1 Axes>"
      ]
     },
     "metadata": {
      "needs_background": "light"
     },
     "output_type": "display_data"
    }
   ],
   "source": [
    "plt.figure(figsize=(20, 5))\n",
    "plt.plot(df_test.index, df_test['Close'])\n",
    "plt.plot(df_test.index, df_test['Prediction'], color='r')\n",
    "plt.legend(loc='best', fontsize='xx-large')\n",
    "plt.xticks(fontsize=18)\n",
    "plt.yticks(fontsize=16)\n",
    "plt.show()"
   ]
  },
  {
   "cell_type": "code",
   "execution_count": 64,
   "metadata": {},
   "outputs": [
    {
     "name": "stdout",
     "output_type": "stream",
     "text": [
      "rmse:  [104.72048964]\n"
     ]
    }
   ],
   "source": [
    "pred_actual_rmse = rmse(df_test.iloc[-n_input:, [0]], df_test.iloc[-n_input:, [1]])\n",
    "print(\"rmse: \", pred_actual_rmse)"
   ]
  },
  {
   "cell_type": "code",
   "execution_count": 65,
   "metadata": {},
   "outputs": [],
   "source": [
    "train = df"
   ]
  },
  {
   "cell_type": "code",
   "execution_count": 66,
   "metadata": {},
   "outputs": [],
   "source": [
    "scaler.fit(train)\n",
    "train = scaler.transform(train)"
   ]
  },
  {
   "cell_type": "code",
   "execution_count": 67,
   "metadata": {},
   "outputs": [],
   "source": [
    "n_input = 30\n",
    "n_features = 1\n",
    "generator = TimeseriesGenerator(train, train, length=n_input, batch_size=6)"
   ]
  },
  {
   "cell_type": "code",
   "execution_count": 68,
   "metadata": {},
   "outputs": [
    {
     "name": "stdout",
     "output_type": "stream",
     "text": [
      "Epoch 1/90\n",
      "625/625 [==============================] - 13s 20ms/step - loss: 3.6385e-04\n",
      "Epoch 2/90\n",
      "625/625 [==============================] - 12s 19ms/step - loss: 3.4853e-04\n",
      "Epoch 3/90\n",
      "625/625 [==============================] - 13s 20ms/step - loss: 3.5934e-04\n",
      "Epoch 4/90\n",
      "625/625 [==============================] - 13s 21ms/step - loss: 4.0159e-04\n",
      "Epoch 5/90\n",
      "625/625 [==============================] - 13s 21ms/step - loss: 3.6741e-04\n",
      "Epoch 6/90\n",
      "625/625 [==============================] - 13s 20ms/step - loss: 3.5839e-04\n",
      "Epoch 7/90\n",
      "625/625 [==============================] - 12s 19ms/step - loss: 3.5578e-04\n",
      "Epoch 8/90\n",
      "625/625 [==============================] - 12s 19ms/step - loss: 3.6045e-04\n",
      "Epoch 9/90\n",
      "625/625 [==============================] - 12s 19ms/step - loss: 3.6335e-04\n",
      "Epoch 10/90\n",
      "625/625 [==============================] - 13s 21ms/step - loss: 3.2730e-04\n",
      "Epoch 11/90\n",
      "625/625 [==============================] - 12s 20ms/step - loss: 3.9152e-04\n",
      "Epoch 12/90\n",
      "625/625 [==============================] - 12s 19ms/step - loss: 3.5394e-04 0s - loss: 3.5436e-\n",
      "Epoch 13/90\n",
      "625/625 [==============================] - 12s 20ms/step - loss: 3.6409e-04\n",
      "Epoch 14/90\n",
      "625/625 [==============================] - 12s 20ms/step - loss: 3.5114e-04\n",
      "Epoch 15/90\n",
      "625/625 [==============================] - 13s 20ms/step - loss: 3.8231e-04\n",
      "Epoch 16/90\n",
      "625/625 [==============================] - 12s 20ms/step - loss: 3.7601e-04\n",
      "Epoch 17/90\n",
      "625/625 [==============================] - 12s 20ms/step - loss: 3.6449e-04\n",
      "Epoch 18/90\n",
      "625/625 [==============================] - 12s 20ms/step - loss: 3.4417e-04\n",
      "Epoch 19/90\n",
      "625/625 [==============================] - 13s 21ms/step - loss: 3.8071e-04\n",
      "Epoch 20/90\n",
      "625/625 [==============================] - 14s 22ms/step - loss: 3.4644e-04\n",
      "Epoch 21/90\n",
      "625/625 [==============================] - 13s 21ms/step - loss: 3.3512e-04\n",
      "Epoch 22/90\n",
      "625/625 [==============================] - 13s 21ms/step - loss: 3.5407e-04\n",
      "Epoch 23/90\n",
      "625/625 [==============================] - 12s 20ms/step - loss: 3.4113e-04\n",
      "Epoch 24/90\n",
      "625/625 [==============================] - 12s 20ms/step - loss: 3.2880e-04\n",
      "Epoch 25/90\n",
      "625/625 [==============================] - 14s 23ms/step - loss: 3.4250e-04\n",
      "Epoch 26/90\n",
      "625/625 [==============================] - 14s 22ms/step - loss: 4.0366e-04\n",
      "Epoch 27/90\n",
      "625/625 [==============================] - 14s 22ms/step - loss: 3.4692e-04\n",
      "Epoch 28/90\n",
      "625/625 [==============================] - 12s 20ms/step - loss: 3.6034e-04\n",
      "Epoch 29/90\n",
      "625/625 [==============================] - 13s 21ms/step - loss: 3.5167e-04\n",
      "Epoch 30/90\n",
      "625/625 [==============================] - 12s 19ms/step - loss: 3.5779e-04\n",
      "Epoch 31/90\n",
      "625/625 [==============================] - 12s 20ms/step - loss: 3.6154e-04\n",
      "Epoch 32/90\n",
      "625/625 [==============================] - 14s 22ms/step - loss: 3.9434e-04\n",
      "Epoch 33/90\n",
      "625/625 [==============================] - 14s 23ms/step - loss: 3.6148e-04\n",
      "Epoch 34/90\n",
      "625/625 [==============================] - 17s 26ms/step - loss: 3.6227e-04\n",
      "Epoch 35/90\n",
      "625/625 [==============================] - 14s 23ms/step - loss: 3.2283e-04\n",
      "Epoch 36/90\n",
      "625/625 [==============================] - 13s 21ms/step - loss: 3.4706e-04\n",
      "Epoch 37/90\n",
      "625/625 [==============================] - 14s 22ms/step - loss: 3.5786e-04\n",
      "Epoch 38/90\n",
      "625/625 [==============================] - 14s 23ms/step - loss: 3.5635e-04\n",
      "Epoch 39/90\n",
      "625/625 [==============================] - 13s 21ms/step - loss: 3.1598e-04\n",
      "Epoch 40/90\n",
      "625/625 [==============================] - 13s 20ms/step - loss: 3.6706e-04\n",
      "Epoch 41/90\n",
      "625/625 [==============================] - 13s 21ms/step - loss: 3.5516e-04 \n",
      "Epoch 42/90\n",
      "625/625 [==============================] - 13s 20ms/step - loss: 3.5884e-04\n",
      "Epoch 43/90\n",
      "625/625 [==============================] - 13s 21ms/step - loss: 3.6394e-04\n",
      "Epoch 44/90\n",
      "625/625 [==============================] - 13s 21ms/step - loss: 3.5543e-04\n",
      "Epoch 45/90\n",
      "625/625 [==============================] - 12s 20ms/step - loss: 3.9137e-04\n",
      "Epoch 46/90\n",
      "625/625 [==============================] - 12s 20ms/step - loss: 3.3313e-04\n",
      "Epoch 47/90\n",
      "625/625 [==============================] - 14s 22ms/step - loss: 3.4633e-04\n",
      "Epoch 48/90\n",
      "625/625 [==============================] - 13s 22ms/step - loss: 3.7019e-04\n",
      "Epoch 49/90\n",
      "625/625 [==============================] - 13s 21ms/step - loss: 3.7048e-04\n",
      "Epoch 50/90\n",
      "625/625 [==============================] - 13s 21ms/step - loss: 3.4772e-04\n",
      "Epoch 51/90\n",
      "625/625 [==============================] - 13s 20ms/step - loss: 3.6521e-04\n",
      "Epoch 52/90\n",
      "625/625 [==============================] - 14s 22ms/step - loss: 3.5066e-04\n",
      "Epoch 53/90\n",
      "625/625 [==============================] - 13s 21ms/step - loss: 3.6671e-04\n",
      "Epoch 54/90\n",
      "625/625 [==============================] - 14s 22ms/step - loss: 3.7264e-04\n",
      "Epoch 55/90\n",
      "625/625 [==============================] - 13s 20ms/step - loss: 3.2948e-04\n",
      "Epoch 56/90\n",
      "625/625 [==============================] - 13s 21ms/step - loss: 3.2242e-04\n",
      "Epoch 57/90\n",
      "625/625 [==============================] - 13s 20ms/step - loss: 3.4329e-04\n",
      "Epoch 58/90\n",
      "625/625 [==============================] - 13s 21ms/step - loss: 3.3240e-04 0s - l\n",
      "Epoch 59/90\n",
      "625/625 [==============================] - 13s 20ms/step - loss: 3.6406e-04\n",
      "Epoch 60/90\n",
      "625/625 [==============================] - 13s 21ms/step - loss: 3.4327e-04\n",
      "Epoch 61/90\n",
      "625/625 [==============================] - 13s 21ms/step - loss: 3.3655e-04 0s - loss\n",
      "Epoch 62/90\n",
      "625/625 [==============================] - 13s 21ms/step - loss: 3.6481e-04 0s - loss: 3.6\n",
      "Epoch 63/90\n",
      "625/625 [==============================] - 13s 21ms/step - loss: 3.4560e-04 0s - loss: 3.4\n",
      "Epoch 64/90\n",
      "625/625 [==============================] - 13s 21ms/step - loss: 3.4417e-04\n",
      "Epoch 65/90\n",
      "625/625 [==============================] - 13s 21ms/step - loss: 3.6352e-04\n",
      "Epoch 66/90\n",
      "625/625 [==============================] - 14s 22ms/step - loss: 3.4522e-04\n",
      "Epoch 67/90\n",
      "625/625 [==============================] - 13s 20ms/step - loss: 3.5896e-04\n",
      "Epoch 68/90\n",
      "625/625 [==============================] - 13s 20ms/step - loss: 3.3093e-04\n",
      "Epoch 69/90\n",
      "625/625 [==============================] - 13s 20ms/step - loss: 3.4778e-04\n",
      "Epoch 70/90\n",
      "625/625 [==============================] - 14s 22ms/step - loss: 3.3370e-04\n",
      "Epoch 71/90\n",
      "625/625 [==============================] - 13s 22ms/step - loss: 3.3240e-04\n",
      "Epoch 72/90\n",
      "625/625 [==============================] - 13s 21ms/step - loss: 3.3952e-04\n",
      "Epoch 73/90\n",
      "625/625 [==============================] - 13s 21ms/step - loss: 3.3964e-04\n",
      "Epoch 74/90\n",
      "625/625 [==============================] - 13s 21ms/step - loss: 3.3729e-04\n",
      "Epoch 75/90\n",
      "625/625 [==============================] - 13s 21ms/step - loss: 3.4421e-04\n",
      "Epoch 76/90\n",
      "625/625 [==============================] - 13s 20ms/step - loss: 3.3997e-04\n",
      "Epoch 77/90\n",
      "625/625 [==============================] - 13s 20ms/step - loss: 3.6416e-04\n",
      "Epoch 78/90\n",
      "625/625 [==============================] - 13s 21ms/step - loss: 3.5292e-04\n",
      "Epoch 79/90\n",
      "625/625 [==============================] - 13s 20ms/step - loss: 3.5593e-04\n",
      "Epoch 80/90\n",
      "625/625 [==============================] - 13s 21ms/step - loss: 3.6981e-04\n",
      "Epoch 81/90\n",
      "625/625 [==============================] - 13s 21ms/step - loss: 3.5563e-04\n",
      "Epoch 82/90\n",
      "625/625 [==============================] - 13s 21ms/step - loss: 3.4450e-04\n",
      "Epoch 83/90\n",
      "625/625 [==============================] - 13s 20ms/step - loss: 3.4887e-04\n",
      "Epoch 84/90\n",
      "625/625 [==============================] - 13s 21ms/step - loss: 3.4200e-04\n",
      "Epoch 85/90\n",
      "625/625 [==============================] - 12s 20ms/step - loss: 3.5052e-04\n",
      "Epoch 86/90\n",
      "625/625 [==============================] - 13s 20ms/step - loss: 3.3029e-04\n",
      "Epoch 87/90\n",
      "625/625 [==============================] - 13s 21ms/step - loss: 3.2783e-04\n",
      "Epoch 88/90\n",
      "625/625 [==============================] - 14s 22ms/step - loss: 3.4122e-04\n",
      "Epoch 89/90\n",
      "625/625 [==============================] - 14s 22ms/step - loss: 3.7304e-04\n",
      "Epoch 90/90\n",
      "625/625 [==============================] - 13s 21ms/step - loss: 3.1123e-04\n"
     ]
    },
    {
     "data": {
      "text/plain": [
       "<tensorflow.python.keras.callbacks.History at 0x14d543e64c8>"
      ]
     },
     "execution_count": 68,
     "metadata": {},
     "output_type": "execute_result"
    }
   ],
   "source": [
    "model.fit_generator(generator,epochs=90)"
   ]
  },
  {
   "cell_type": "code",
   "execution_count": 69,
   "metadata": {},
   "outputs": [],
   "source": [
    "pred_list = []\n",
    "\n",
    "batch = train[-n_input:].reshape((1, n_input, n_features))\n",
    "\n",
    "for i in range(n_input):   \n",
    "    pred_list.append(model.predict(batch)[0]) \n",
    "    batch = np.append(batch[:,1:,:],[[pred_list[i]]],axis=1)"
   ]
  },
  {
   "cell_type": "code",
   "execution_count": 82,
   "metadata": {},
   "outputs": [],
   "source": [
    "#df1.Date = pd.to_datetime(df1.Date)\n",
    "#df1 = df1.set_index(\"Date\")   #set date column as index\n",
    "\n",
    "\n",
    "from pandas.tseries.offsets import DateOffset\n",
    "add_dates = [df.index[-1] + x for x in range(0,31) ]\n",
    "future_dates = pd.DataFrame(index=add_dates[1:],columns=df.columns)"
   ]
  },
  {
   "cell_type": "code",
   "execution_count": 83,
   "metadata": {},
   "outputs": [],
   "source": [
    "df_predict = pd.DataFrame(scaler.inverse_transform(pred_list),\n",
    "                          index=future_dates[-n_input:].index, columns=['Prediction'])\n",
    "\n",
    "df_proj = pd.concat([df,df_predict], axis=1)"
   ]
  },
  {
   "cell_type": "code",
   "execution_count": 84,
   "metadata": {},
   "outputs": [
    {
     "name": "stderr",
     "output_type": "stream",
     "text": [
      "No handles with labels found to put in legend.\n"
     ]
    },
    {
     "data": {
      "image/png": "[encoded data removed]",
      "text/plain": [
       "<Figure size 1440x360 with 1 Axes>"
      ]
     },
     "metadata": {
      "needs_background": "light"
     },
     "output_type": "display_data"
    }
   ],
   "source": [
    "plt.figure(figsize=(20, 5))\n",
    "plt.plot(df_proj.index, df_proj['Close'])\n",
    "plt.plot(df_proj.index, df_proj['Prediction'], color='r')\n",
    "plt.legend(loc='best', fontsize='xx-large')\n",
    "plt.xticks(fontsize=18)\n",
    "plt.yticks(fontsize=16)\n",
    "plt.show()"
   ]
  },
  {
   "cell_type": "markdown",
   "metadata": {},
   "source": [
    "our Prediction model shows decrease in Alphabet share px in next month"
   ]
  }
 ],
 "metadata": {
  "kernelspec": {
   "display_name": "Python 3",
   "language": "python",
   "name": "python3"
  },
  "language_info": {
   "codemirror_mode": {
    "name": "ipython",
    "version": 3
   },
   "file_extension": ".py",
   "mimetype": "text/x-python",
   "name": "python",
   "nbconvert_exporter": "python",
   "pygments_lexer": "ipython3",
   "version": "3.7.6"
  }
 },
 "nbformat": 4,
 "nbformat_minor": 4
}
